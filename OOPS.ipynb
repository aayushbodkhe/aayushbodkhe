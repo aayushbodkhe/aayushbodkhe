{
  "nbformat": 4,
  "nbformat_minor": 0,
  "metadata": {
    "colab": {
      "provenance": [],
      "authorship_tag": "ABX9TyPOFbVRUX3lPJ5zkZSB3JNS",
      "include_colab_link": true
    },
    "kernelspec": {
      "name": "python3",
      "display_name": "Python 3"
    },
    "language_info": {
      "name": "python"
    }
  },
  "cells": [
    {
      "cell_type": "markdown",
      "metadata": {
        "id": "view-in-github",
        "colab_type": "text"
      },
      "source": [
        "<a href=\"https://colab.research.google.com/github/aayushbodkhe/aayushbodkhe/blob/main/OOPS.ipynb\" target=\"_parent\"><img src=\"https://colab.research.google.com/assets/colab-badge.svg\" alt=\"Open In Colab\"/></a>"
      ]
    },
    {
      "cell_type": "code",
      "execution_count": 19,
      "metadata": {
        "colab": {
          "base_uri": "https://localhost:8080/"
        },
        "id": "UmvaLO1YtqvF",
        "outputId": "3136e3c1-3cd4-4276-b577-8a00f6304524"
      },
      "outputs": [
        {
          "output_type": "stream",
          "name": "stdout",
          "text": [
            "02-04-2004\n"
          ]
        }
      ],
      "source": [
        "class Student:\n",
        "  college_name = \"PCCOE\"\n",
        "  def __init__(self,name_given,dob_given,branch_given):\n",
        "    self.name = name_given\n",
        "    self.dob = dob_given\n",
        "    self.branch  = branch_given\n",
        "\n",
        "\n",
        "\n",
        "student1 = Student(\"aayush\", \"02-04-2004\", \"AIML\")\n",
        "student2 = Student(\"amah\", \"12-04-2001\", \"CS\")\n",
        "\n",
        "\n",
        "print(student1.dob)"
      ]
    },
    {
      "cell_type": "code",
      "source": [],
      "metadata": {
        "colab": {
          "base_uri": "https://localhost:8080/"
        },
        "id": "UG6dB7WUwUz8",
        "outputId": "fef1bfcf-3faa-490d-df9e-f14ac1f2d992"
      },
      "execution_count": 7,
      "outputs": [
        {
          "output_type": "stream",
          "name": "stdout",
          "text": [
            "04-11-2001\n"
          ]
        }
      ]
    }
  ]
}